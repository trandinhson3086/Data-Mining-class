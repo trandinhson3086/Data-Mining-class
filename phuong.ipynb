{
 "cells": [
  {
   "cell_type": "code",
   "execution_count": 1,
   "metadata": {
    "collapsed": true
   },
   "outputs": [],
   "source": [
    "import numpy as np\n",
    "from matplotlib import pyplot as plt\n",
    "from scipy.stats import multivariate_normal\n",
    "\n",
    "import ipdb\n"
   ]
  },
  {
   "cell_type": "code",
   "execution_count": 2,
   "metadata": {
    "collapsed": true
   },
   "outputs": [],
   "source": [
    "# true parameters for simulation\n",
    "betaT = np.array([[2.], [-1.]])\n",
    "s2T = 1\n",
    "\n",
    "x1 = np.arange(0, 10, 0.5)\n",
    "x2 = -x1+0.1*np.random.normal(0, 2, size=len(x1))\n",
    "X = np.hstack([x1.reshape(-1, 1), x2.reshape(-1, 1)]) # data matrix\n",
    "\n",
    "E = np.random.normal(0, 3, size=len(x1)).reshape(-1, 1) # simulated random noise\n",
    "y = np.dot(X, betaT)+E # simulated data\n",
    "\n",
    "# prior \n",
    "L0 = 0.01*np.eye(2) \n",
    "mu0 = np.array([[0.], [0.]])\n",
    "a0 = 1.\n",
    "b0 = 1."
   ]
  },
  {
   "cell_type": "code",
   "execution_count": 3,
   "metadata": {
    "collapsed": true
   },
   "outputs": [],
   "source": [
    "def posterior(mu_pr, L_pr, a_pr, b_pr, dy, dX):\n",
    "    n = dy.shape[0]\n",
    "    XTX = np.dot(dX.T, dX)\n",
    "    #XTX_inv = np.linalg.inv(XTX)\n",
    "    #betaLS = np.dot(np.dot(XTX_inv, X), dY.reshape(-1, 1))\n",
    "    L_po = L_pr+XTX\n",
    "    L_po_inv = np.linalg.inv(L_po)\n",
    "    mu_po = np.dot(L_po_inv, np.dot(L_pr, mu_pr.reshape(-1, 1))+np.dot(dX.T, dy.reshape(-1, 1)))\n",
    "    a_po = a_pr + 0.5*n\n",
    "    b_po = b_pr + 0.5*(np.dot(y.T,y) \n",
    "            +np.dot(mu_pr.T, np.dot(L_pr, mu_pr))\n",
    "            -np.dot(mu_po.T, np.dot(L_po, mu_po)))[0,0]\n",
    "            \n",
    "    return mu_po, L_po, a_po, b_po\n",
    "\n",
    "\n",
    "muN, LN, aN, bN = posterior(mu0, L0, a0, b0, y, X)\n",
    "\n",
    "b1s = np.linspace(1, 3, 400)\n",
    "b2s = np.linspace(-2, 0, 400)\n",
    "gb1s, gb2s = np.meshgrid(b1s, b2s)\n",
    "\n",
    "b1sv = gb1s.reshape(-1, 1)\n",
    "b2sv = gb2s.reshape(-1, 1)\n",
    "b12sv = np.hstack((b1sv, b2sv))\n",
    "pmp = bN/(aN-1) # posterior mean of precision \n",
    "cov_est = np.linalg.inv(pmp*LN)\n",
    "\n",
    "zsv = multivariate_normal.pdf(b12sv, mean=muN.reshape(-1), cov=cov_est)\n",
    "gzs = zsv.reshape(gb1s.shape)\n"
   ]
  },
  {
   "cell_type": "code",
   "execution_count": 4,
   "metadata": {},
   "outputs": [
    {
     "data": {
      "image/png": "[encoded data removed]",
      "text/plain": [
       "<matplotlib.figure.Figure at 0x11bdd76cac8>"
      ]
     },
     "metadata": {},
     "output_type": "display_data"
    },
    {
     "data": {
      "image/png": "[encoded data removed]",
      "text/plain": [
       "<matplotlib.figure.Figure at 0x11bdfe5ed30>"
      ]
     },
     "metadata": {},
     "output_type": "display_data"
    }
   ],
   "source": [
    "plt.figure()\n",
    "plt.subplot(221)\n",
    "plt.plot(x1, x2, 'o')\n",
    "plt.title(\"x2/x1\")\n",
    "plt.subplot(223)\n",
    "plt.plot(x1, y, 'o')\n",
    "plt.title(\"y/x1\")\n",
    "plt.subplot(224)\n",
    "plt.plot(x2, y, 'o')\n",
    "plt.title(\"y/x2\")\n",
    "\n",
    "plt.figure()\n",
    "plt.contour(gb1s, gb2s, gzs)\n",
    "\n",
    "plt.ion()\n",
    "plt.show()\n"
   ]
  },
  {
   "cell_type": "code",
   "execution_count": null,
   "metadata": {
    "collapsed": true
   },
   "outputs": [],
   "source": []
  }
 ],
 "metadata": {
  "kernelspec": {
   "display_name": "Python [conda env:Anaconda3]",
   "language": "python",
   "name": "conda-env-Anaconda3-py"
  },
  "language_info": {
   "codemirror_mode": {
    "name": "ipython",
    "version": 3
   },
   "file_extension": ".py",
   "mimetype": "text/x-python",
   "name": "python",
   "nbconvert_exporter": "python",
   "pygments_lexer": "ipython3",
   "version": "3.5.3"
  }
 },
 "nbformat": 4,
 "nbformat_minor": 2
}
